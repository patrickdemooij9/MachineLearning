{
 "cells": [
  {
   "cell_type": "code",
   "execution_count": 1,
   "metadata": {},
   "outputs": [
    {
     "ename": "ModuleNotFoundError",
     "evalue": "No module named 'matplotlib'",
     "output_type": "error",
     "traceback": [
      "\u001b[1;31m---------------------------------------------------------------------------\u001b[0m",
      "\u001b[1;31mModuleNotFoundError\u001b[0m                       Traceback (most recent call last)",
      "\u001b[1;32mC:\\Users\\PATRIC~1.MOO\\AppData\\Local\\Temp/ipykernel_43108/2028484826.py\u001b[0m in \u001b[0;36m<module>\u001b[1;34m\u001b[0m\n\u001b[0;32m      2\u001b[0m \u001b[1;32mfrom\u001b[0m \u001b[0mos\u001b[0m\u001b[1;33m.\u001b[0m\u001b[0mpath\u001b[0m \u001b[1;32mimport\u001b[0m \u001b[0mexists\u001b[0m\u001b[1;33m\u001b[0m\u001b[1;33m\u001b[0m\u001b[0m\n\u001b[0;32m      3\u001b[0m \u001b[1;32mimport\u001b[0m \u001b[0mpathlib\u001b[0m\u001b[1;33m\u001b[0m\u001b[1;33m\u001b[0m\u001b[0m\n\u001b[1;32m----> 4\u001b[1;33m \u001b[1;32mimport\u001b[0m \u001b[0mmatplotlib\u001b[0m\u001b[1;33m.\u001b[0m\u001b[0mpyplot\u001b[0m \u001b[1;32mas\u001b[0m \u001b[0mplt\u001b[0m\u001b[1;33m\u001b[0m\u001b[1;33m\u001b[0m\u001b[0m\n\u001b[0m\u001b[0;32m      5\u001b[0m \u001b[1;32mimport\u001b[0m \u001b[0mnumpy\u001b[0m \u001b[1;32mas\u001b[0m \u001b[0mnp\u001b[0m\u001b[1;33m\u001b[0m\u001b[1;33m\u001b[0m\u001b[0m\n\u001b[0;32m      6\u001b[0m \u001b[1;32mimport\u001b[0m \u001b[0mos\u001b[0m\u001b[1;33m\u001b[0m\u001b[1;33m\u001b[0m\u001b[0m\n",
      "\u001b[1;31mModuleNotFoundError\u001b[0m: No module named 'matplotlib'"
     ]
    }
   ],
   "source": [
    "import os\n",
    "from os.path import exists\n",
    "import pathlib\n",
    "import matplotlib.pyplot as plt\n",
    "import numpy as np\n",
    "import os\n",
    "import PIL\n",
    "import tensorflow as tf\n",
    "\n",
    "from tensorflow import keras\n",
    "from tensorflow.keras import layers\n",
    "from tensorflow.keras.models import Sequential"
   ]
  },
  {
   "cell_type": "code",
   "execution_count": null,
   "metadata": {},
   "outputs": [],
   "source": [
    "optimizer_name = tf.keras.optimizers.Adam()"
   ]
  },
  {
   "cell_type": "code",
   "execution_count": null,
   "metadata": {},
   "outputs": [
    {
     "name": "stdout",
     "output_type": "stream",
     "text": [
      "x:\\valleytest\\data\n"
     ]
    }
   ],
   "source": [
    "data_dir = os.getcwd() + \"/data/\"\n",
    "data_dir = pathlib.Path(data_dir)\n",
    "print(data_dir)"
   ]
  },
  {
   "cell_type": "code",
   "execution_count": null,
   "metadata": {},
   "outputs": [
    {
     "name": "stdout",
     "output_type": "stream",
     "text": [
      "328 training images.\n"
     ]
    }
   ],
   "source": [
    "data_image_count = len(list(data_dir.glob('*/*.jpg')))\n",
    "print(f'{data_image_count} training images.')"
   ]
  },
  {
   "cell_type": "code",
   "execution_count": null,
   "metadata": {},
   "outputs": [],
   "source": [
    "batch_size = 32\n",
    "img_height = 180\n",
    "img_width = 180"
   ]
  },
  {
   "cell_type": "code",
   "execution_count": null,
   "metadata": {},
   "outputs": [
    {
     "name": "stdout",
     "output_type": "stream",
     "text": [
      "Found 328 files belonging to 5 classes.\n",
      "Using 263 files for training.\n"
     ]
    }
   ],
   "source": [
    "train_ds = tf.keras.utils.image_dataset_from_directory(\n",
    "  data_dir,\n",
    "  validation_split=0.2,\n",
    "  subset=\"training\",\n",
    "  seed=123,\n",
    "  image_size=(img_height, img_width),\n",
    "  batch_size=batch_size)"
   ]
  },
  {
   "cell_type": "code",
   "execution_count": null,
   "metadata": {},
   "outputs": [
    {
     "name": "stdout",
     "output_type": "stream",
     "text": [
      "Found 328 files belonging to 5 classes.\n",
      "Using 65 files for validation.\n"
     ]
    }
   ],
   "source": [
    "val_ds = tf.keras.utils.image_dataset_from_directory(\n",
    "  data_dir,\n",
    "  validation_split=0.2,\n",
    "  subset=\"validation\",\n",
    "  seed=123,\n",
    "  image_size=(img_height, img_width),\n",
    "  batch_size=batch_size)"
   ]
  },
  {
   "cell_type": "code",
   "execution_count": null,
   "metadata": {},
   "outputs": [
    {
     "name": "stdout",
     "output_type": "stream",
     "text": [
      "['adidas', 'billabong', 'nike', 'nike sb', 'puma']\n"
     ]
    }
   ],
   "source": [
    "class_names = train_ds.class_names\n",
    "print(class_names)"
   ]
  },
  {
   "cell_type": "code",
   "execution_count": null,
   "metadata": {},
   "outputs": [],
   "source": [
    "AUTOTUNE = tf.data.AUTOTUNE\n",
    "\n",
    "train_ds = train_ds.cache().shuffle(1000).prefetch(buffer_size=AUTOTUNE)\n",
    "val_ds = val_ds.cache().prefetch(buffer_size=AUTOTUNE)"
   ]
  },
  {
   "cell_type": "code",
   "execution_count": null,
   "metadata": {},
   "outputs": [],
   "source": [
    "data_augmentation = keras.Sequential(\n",
    "  [\n",
    "    layers.RandomFlip(\"horizontal\",\n",
    "                      input_shape=(img_height,\n",
    "                                  img_width,\n",
    "                                  3)),\n",
    "    layers.RandomRotation(0.1),\n",
    "    layers.RandomZoom(0.1),\n",
    "  ]\n",
    ")"
   ]
  },
  {
   "cell_type": "code",
   "execution_count": null,
   "metadata": {},
   "outputs": [],
   "source": [
    "num_classes = len(class_names)\n",
    "\n",
    "model = Sequential([\n",
    "  data_augmentation,\n",
    "  layers.Rescaling(1./255),\n",
    "  layers.Conv2D(16, 3, padding='same', activation='relu'),\n",
    "  layers.MaxPooling2D(),\n",
    "  layers.Conv2D(32, 3, padding='same', activation='relu'),\n",
    "  layers.MaxPooling2D(),\n",
    "  layers.Conv2D(64, 3, padding='same', activation='relu'),\n",
    "  layers.MaxPooling2D(),\n",
    "  layers.Dropout(0.2),\n",
    "  layers.Flatten(),\n",
    "  layers.Dense(128, activation='relu'),\n",
    "  layers.Dense(num_classes),\n",
    "  layers.Dense(6, input_dim=6, activation='relu'),\n",
    "  layers.Dense(6, activation='relu'),\n",
    "  layers.Dense(1, activation=None)\n",
    "])"
   ]
  },
  {
   "cell_type": "code",
   "execution_count": null,
   "metadata": {},
   "outputs": [],
   "source": [
    "model.compile(optimizer=optimizer_name,\n",
    "              loss='binary_crossentropy',\n",
    "              metrics=['accuracy'])"
   ]
  },
  {
   "cell_type": "code",
   "execution_count": null,
   "metadata": {},
   "outputs": [
    {
     "name": "stdout",
     "output_type": "stream",
     "text": [
      "Model: \"sequential_1\"\n",
      "_________________________________________________________________\n",
      " Layer (type)                Output Shape              Param #   \n",
      "=================================================================\n",
      " sequential (Sequential)     (None, 180, 180, 3)       0         \n",
      "                                                                 \n",
      " rescaling (Rescaling)       (None, 180, 180, 3)       0         \n",
      "                                                                 \n",
      " conv2d (Conv2D)             (None, 180, 180, 16)      448       \n",
      "                                                                 \n",
      " max_pooling2d (MaxPooling2D  (None, 90, 90, 16)       0         \n",
      " )                                                               \n",
      "                                                                 \n",
      " conv2d_1 (Conv2D)           (None, 90, 90, 32)        4640      \n",
      "                                                                 \n",
      " max_pooling2d_1 (MaxPooling  (None, 45, 45, 32)       0         \n",
      " 2D)                                                             \n",
      "                                                                 \n",
      " conv2d_2 (Conv2D)           (None, 45, 45, 64)        18496     \n",
      "                                                                 \n",
      " max_pooling2d_2 (MaxPooling  (None, 22, 22, 64)       0         \n",
      " 2D)                                                             \n",
      "                                                                 \n",
      " dropout (Dropout)           (None, 22, 22, 64)        0         \n",
      "                                                                 \n",
      " flatten (Flatten)           (None, 30976)             0         \n",
      "                                                                 \n",
      " dense (Dense)               (None, 128)               3965056   \n",
      "                                                                 \n",
      " dense_1 (Dense)             (None, 5)                 645       \n",
      "                                                                 \n",
      " dense_2 (Dense)             (None, 6)                 36        \n",
      "                                                                 \n",
      " dense_3 (Dense)             (None, 6)                 42        \n",
      "                                                                 \n",
      " dense_4 (Dense)             (None, 1)                 7         \n",
      "                                                                 \n",
      "=================================================================\n",
      "Total params: 3,989,370\n",
      "Trainable params: 3,989,370\n",
      "Non-trainable params: 0\n",
      "_________________________________________________________________\n"
     ]
    }
   ],
   "source": [
    "model.summary()"
   ]
  },
  {
   "cell_type": "code",
   "execution_count": null,
   "metadata": {},
   "outputs": [
    {
     "name": "stdout",
     "output_type": "stream",
     "text": [
      "Epoch 1/15\n",
      "9/9 [==============================] - 5s 414ms/step - loss: -1.9084 - accuracy: 0.1901 - val_loss: -10.5572 - val_accuracy: 0.2154\n",
      "Epoch 2/15\n",
      "9/9 [==============================] - 4s 430ms/step - loss: -12.3501 - accuracy: 0.1977 - val_loss: -10.5572 - val_accuracy: 0.2154\n",
      "Epoch 3/15\n",
      "9/9 [==============================] - 4s 477ms/step - loss: -12.3501 - accuracy: 0.1977 - val_loss: -10.5572 - val_accuracy: 0.2154\n",
      "Epoch 4/15\n",
      "9/9 [==============================] - 4s 427ms/step - loss: -12.3501 - accuracy: 0.1977 - val_loss: -10.5572 - val_accuracy: 0.2154\n",
      "Epoch 5/15\n",
      "9/9 [==============================] - 4s 442ms/step - loss: -12.3501 - accuracy: 0.1977 - val_loss: -10.5572 - val_accuracy: 0.2154\n",
      "Epoch 6/15\n",
      "9/9 [==============================] - 4s 452ms/step - loss: -12.3501 - accuracy: 0.1977 - val_loss: -10.5572 - val_accuracy: 0.2154\n",
      "Epoch 7/15\n",
      "9/9 [==============================] - 4s 412ms/step - loss: -12.3501 - accuracy: 0.1977 - val_loss: -10.5572 - val_accuracy: 0.2154\n",
      "Epoch 8/15\n",
      "9/9 [==============================] - 4s 495ms/step - loss: -12.3501 - accuracy: 0.1977 - val_loss: -10.5572 - val_accuracy: 0.2154\n",
      "Epoch 9/15\n",
      "9/9 [==============================] - 5s 496ms/step - loss: -12.3501 - accuracy: 0.1977 - val_loss: -10.5572 - val_accuracy: 0.2154\n",
      "Epoch 10/15\n",
      "9/9 [==============================] - 4s 478ms/step - loss: -12.3501 - accuracy: 0.1977 - val_loss: -10.5572 - val_accuracy: 0.2154\n",
      "Epoch 11/15\n",
      "9/9 [==============================] - 4s 430ms/step - loss: -12.3501 - accuracy: 0.1977 - val_loss: -10.5572 - val_accuracy: 0.2154\n",
      "Epoch 12/15\n",
      "9/9 [==============================] - 4s 417ms/step - loss: -12.3501 - accuracy: 0.1977 - val_loss: -10.5572 - val_accuracy: 0.2154\n",
      "Epoch 13/15\n",
      "9/9 [==============================] - 4s 462ms/step - loss: -12.3501 - accuracy: 0.1977 - val_loss: -10.5572 - val_accuracy: 0.2154\n",
      "Epoch 14/15\n",
      "9/9 [==============================] - 4s 438ms/step - loss: -12.3501 - accuracy: 0.1977 - val_loss: -10.5572 - val_accuracy: 0.2154\n",
      "Epoch 15/15\n",
      "9/9 [==============================] - 4s 430ms/step - loss: -12.3501 - accuracy: 0.1977 - val_loss: -10.5572 - val_accuracy: 0.2154\n"
     ]
    }
   ],
   "source": [
    "epochs = 15\n",
    "history = model.fit(\n",
    "  train_ds,\n",
    "  validation_data=val_ds,\n",
    "  epochs=epochs\n",
    ")"
   ]
  },
  {
   "cell_type": "code",
   "execution_count": null,
   "metadata": {},
   "outputs": [
    {
     "data": {
      "image/png": "[encoded data removed]",
      "text/plain": [
       "<Figure size 576x576 with 2 Axes>"
      ]
     },
     "metadata": {
      "needs_background": "light"
     },
     "output_type": "display_data"
    }
   ],
   "source": [
    "acc = history.history['accuracy']\n",
    "val_acc = history.history['val_accuracy']\n",
    "\n",
    "loss = history.history['loss']\n",
    "val_loss = history.history['val_loss']\n",
    "\n",
    "epochs_range = range(epochs)\n",
    "\n",
    "plt.figure(figsize=(8, 8))\n",
    "plt.subplot(1, 2, 1)\n",
    "plt.plot(epochs_range, acc, label='Training Accuracy')\n",
    "plt.plot(epochs_range, val_acc, label='Validation Accuracy')\n",
    "plt.legend(loc='lower right')\n",
    "plt.title('Training and Validation Accuracy')\n",
    "\n",
    "plt.subplot(1, 2, 2)\n",
    "plt.plot(epochs_range, loss, label='Training Loss')\n",
    "plt.plot(epochs_range, val_loss, label='Validation Loss')\n",
    "plt.legend(loc='upper right')\n",
    "plt.title('Training and Validation Loss')\n",
    "plt.show()"
   ]
  },
  {
   "cell_type": "code",
   "execution_count": null,
   "metadata": {},
   "outputs": [],
   "source": [
    "def check_for_logo(image_url):\n",
    "    if(exists(os.getcwd() + \"/datasets/data\")):\n",
    "        os.remove(os.getcwd() + \"/datasets/data\")\n",
    "    image_path = tf.keras.utils.get_file('data', origin=image_url, cache_dir=os.getcwd())\n",
    "\n",
    "    img = tf.keras.utils.load_img(\n",
    "        image_path, target_size=(img_height, img_width)\n",
    "    )\n",
    "    img_array = tf.keras.utils.img_to_array(img)\n",
    "    img_array = tf.expand_dims(img_array, 0) # Create a batch\n",
    "\n",
    "    predictions = model.predict(img_array)\n",
    "    score = tf.nn.softmax(predictions[0])\n",
    "\n",
    "    # print(\n",
    "    #     \"This image most likely belongs to {} with a {:.2f} percent confidence.\"\n",
    "    #     .format(class_names[np.argmax(score)], 100 * np.max(score))\n",
    "    # )\n",
    "    \n",
    "    return class_names[np.argmax(score)]"
   ]
  },
  {
   "cell_type": "code",
   "execution_count": null,
   "metadata": {},
   "outputs": [],
   "source": [
    "correctness = 0"
   ]
  },
  {
   "cell_type": "code",
   "execution_count": null,
   "metadata": {},
   "outputs": [
    {
     "name": "stdout",
     "output_type": "stream",
     "text": [
      "Downloading data from https://i.pinimg.com/originals/97/32/39/973239ad30b6ae553b895ad2f33ab4c2.png\n",
      "40960/34123 [====================================] - 0s 0us/step\n",
      "49152/34123 [===========================================] - 0s 0us/step\n",
      "adidas\n"
     ]
    }
   ],
   "source": [
    "# nike SB\n",
    "image_url = \"https://i.pinimg.com/originals/97/32/39/973239ad30b6ae553b895ad2f33ab4c2.png\"\n",
    "returned = check_for_logo(image_url)\n",
    "\n",
    "if(returned == \"nike sb\"):\n",
    "    correctness += 1\n",
    "print(returned)"
   ]
  },
  {
   "cell_type": "code",
   "execution_count": null,
   "metadata": {},
   "outputs": [
    {
     "name": "stdout",
     "output_type": "stream",
     "text": [
      "Downloading data from https://www.dafont.com/forum/attach/orig/8/4/846787.png\n",
      "106496/103287 [==============================] - 0s 0us/step\n",
      "114688/103287 [=================================] - 0s 0us/step\n",
      "adidas\n"
     ]
    }
   ],
   "source": [
    "# nike SB 2\n",
    "image_url = \"https://www.dafont.com/forum/attach/orig/8/4/846787.png\"\n",
    "returned = check_for_logo(image_url)\n",
    "\n",
    "if(returned == \"nike sb\"):\n",
    "    correctness += 1\n",
    "print(returned)"
   ]
  },
  {
   "cell_type": "code",
   "execution_count": null,
   "metadata": {},
   "outputs": [
    {
     "name": "stdout",
     "output_type": "stream",
     "text": [
      "Downloading data from https://encrypted-tbn0.gstatic.com/images?q=tbn:ANd9GcRaudvEIjh6VdvXVB2Rtugdm7hANKwhy0kawg&usqp=CAU\n",
      "16384/2960 [======================================================================================================================================================================] - 0s 0s/step\n",
      "adidas\n"
     ]
    }
   ],
   "source": [
    "# Puma\n",
    "image_url = \"https://encrypted-tbn0.gstatic.com/images?q=tbn:ANd9GcRaudvEIjh6VdvXVB2Rtugdm7hANKwhy0kawg&usqp=CAU\"\n",
    "returned = check_for_logo(image_url)\n",
    "\n",
    "if(returned == \"puma\"):\n",
    "    correctness += 1\n",
    "print(returned)"
   ]
  },
  {
   "cell_type": "code",
   "execution_count": null,
   "metadata": {},
   "outputs": [
    {
     "name": "stdout",
     "output_type": "stream",
     "text": [
      "Downloading data from https://encrypted-tbn0.gstatic.com/images?q=tbn:ANd9GcR7X7lgjgAZjap8tiHbky1gaQCxoRFkWQpfxw&usqp=CAU\n",
      "16384/6853 [=======================================================================] - 0s 0s/step\n",
      "adidas\n"
     ]
    }
   ],
   "source": [
    "# Puma 2\n",
    "image_url = \"https://encrypted-tbn0.gstatic.com/images?q=tbn:ANd9GcR7X7lgjgAZjap8tiHbky1gaQCxoRFkWQpfxw&usqp=CAU\"\n",
    "returned = check_for_logo(image_url)\n",
    "\n",
    "if(returned == \"puma\"):\n",
    "    correctness += 1\n",
    "print(returned)"
   ]
  },
  {
   "cell_type": "code",
   "execution_count": null,
   "metadata": {},
   "outputs": [
    {
     "name": "stdout",
     "output_type": "stream",
     "text": [
      "Downloading data from https://velo-badminton.nl/wp-content/uploads/2019/08/adidas_logo1.png\n",
      "40960/33614 [====================================] - 0s 0us/step\n",
      "49152/33614 [===========================================] - 0s 0us/step\n",
      "adidas\n"
     ]
    }
   ],
   "source": [
    "# Adidas\n",
    "image_url = \"https://velo-badminton.nl/wp-content/uploads/2019/08/adidas_logo1.png\"\n",
    "returned = check_for_logo(image_url)\n",
    "\n",
    "if(returned == \"adidas\"):\n",
    "    correctness += 1\n",
    "print(returned)"
   ]
  },
  {
   "cell_type": "code",
   "execution_count": null,
   "metadata": {},
   "outputs": [
    {
     "name": "stdout",
     "output_type": "stream",
     "text": [
      "Downloading data from https://i.pinimg.com/550x/f0/4b/08/f04b08afcbef3dd40ef1e692d8443ec1.jpg\n",
      "32768/27972 [===================================] - 0s 0us/step\n",
      "40960/27972 [===========================================] - 0s 0us/step\n",
      "adidas\n"
     ]
    }
   ],
   "source": [
    "# Adidas 2\n",
    "image_url = \"https://i.pinimg.com/550x/f0/4b/08/f04b08afcbef3dd40ef1e692d8443ec1.jpg\"\n",
    "returned = check_for_logo(image_url)\n",
    "\n",
    "if(returned == \"adidas\"):\n",
    "    correctness += 1\n",
    "print(returned)"
   ]
  },
  {
   "cell_type": "code",
   "execution_count": null,
   "metadata": {},
   "outputs": [
    {
     "name": "stdout",
     "output_type": "stream",
     "text": [
      "Downloading data from https://c.static-nike.com/a/images/w_1920,c_limit/mdbgldn6yg1gg88jomci/image.jpg\n",
      "16384/14573 [=================================] - 0s 0us/step\n",
      "24576/14573 [==================================================] - 0s 0us/step\n",
      "adidas\n"
     ]
    }
   ],
   "source": [
    "# Nike\n",
    "image_url = \"https://c.static-nike.com/a/images/w_1920,c_limit/mdbgldn6yg1gg88jomci/image.jpg\"\n",
    "returned = check_for_logo(image_url)\n",
    "\n",
    "if(returned == \"nike\"):\n",
    "    correctness += 1\n",
    "print(returned)"
   ]
  },
  {
   "cell_type": "code",
   "execution_count": null,
   "metadata": {},
   "outputs": [
    {
     "name": "stdout",
     "output_type": "stream",
     "text": [
      "Downloading data from https://i.pinimg.com/originals/5a/a8/78/5aa878fed3b5eae23461914a6ddedbb7.jpg\n",
      "204800/199997 [==============================] - 0s 0us/step\n",
      "212992/199997 [===============================] - 0s 0us/step\n",
      "adidas\n"
     ]
    }
   ],
   "source": [
    "# Nike 2\n",
    "image_url = \"https://i.pinimg.com/originals/5a/a8/78/5aa878fed3b5eae23461914a6ddedbb7.jpg\"\n",
    "returned = check_for_logo(image_url)\n",
    "\n",
    "if(returned == \"nike\"):\n",
    "    correctness += 1\n",
    "print(returned)"
   ]
  },
  {
   "cell_type": "code",
   "execution_count": null,
   "metadata": {},
   "outputs": [
    {
     "name": "stdout",
     "output_type": "stream",
     "text": [
      "Downloading data from https://www.nicepng.com/png/full/215-2158246_billabong-logo.png\n",
      "24576/18468 [=======================================] - 0s 0us/step\n",
      "32768/18468 [=====================================================] - 0s 0us/step\n",
      "adidas\n"
     ]
    }
   ],
   "source": [
    "# Billabong\n",
    "image_url = \"https://www.nicepng.com/png/full/215-2158246_billabong-logo.png\"\n",
    "returned = check_for_logo(image_url)\n",
    "\n",
    "if(returned == \"billabong\"):\n",
    "    correctness += 1\n",
    "print(returned)\n"
   ]
  },
  {
   "cell_type": "code",
   "execution_count": null,
   "metadata": {},
   "outputs": [
    {
     "name": "stdout",
     "output_type": "stream",
     "text": [
      "Downloading data from https://encrypted-tbn0.gstatic.com/images?q=tbn:ANd9GcQoZr78-oDhXa7970x6ZNCoiEVP98PF5-uwuA&usqp=CAU\n",
      "16384/2047 [================================================================================================================================================================================================================================================] - 0s 0s/step\n",
      "adidas\n"
     ]
    }
   ],
   "source": [
    "# Billabong 2\n",
    "image_url = \"https://encrypted-tbn0.gstatic.com/images?q=tbn:ANd9GcQoZr78-oDhXa7970x6ZNCoiEVP98PF5-uwuA&usqp=CAU\"\n",
    "returned = check_for_logo(image_url)\n",
    "\n",
    "if(returned == \"billabong\"):\n",
    "    correctness += 1\n",
    "print(returned)"
   ]
  },
  {
   "cell_type": "code",
   "execution_count": null,
   "metadata": {},
   "outputs": [
    {
     "name": "stdout",
     "output_type": "stream",
     "text": [
      "model predicted 2 out of 10 correctly.\n"
     ]
    }
   ],
   "source": [
    "print(f\"model predicted {correctness} out of 10 correctly.\")"
   ]
  }
 ],
 "metadata": {
  "interpreter": {
   "hash": "d82e5947cadc075ea8d3f614b72517f7ae628fd029d1a0ce3c59395ab2c81819"
  },
  "kernelspec": {
   "display_name": "Python 3.9.4 64-bit",
   "language": "python",
   "name": "python3"
  },
  "language_info": {
   "codemirror_mode": {
    "name": "ipython",
    "version": 3
   },
   "file_extension": ".py",
   "mimetype": "text/x-python",
   "name": "python",
   "nbconvert_exporter": "python",
   "pygments_lexer": "ipython3",
   "version": "3.9.8"
  },
  "orig_nbformat": 4
 },
 "nbformat": 4,
 "nbformat_minor": 2
}
